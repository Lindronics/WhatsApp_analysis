{
  "nbformat": 4,
  "nbformat_minor": 0,
  "metadata": {
    "colab": {
      "name": "WhatsApp_analysis.ipynb",
      "version": "0.3.2",
      "provenance": [],
      "include_colab_link": true
    },
    "kernelspec": {
      "name": "python3",
      "display_name": "Python 3"
    }
  },
  "cells": [
    {
      "cell_type": "markdown",
      "metadata": {
        "id": "view-in-github",
        "colab_type": "text"
      },
      "source": [
        "<a href=\"https://colab.research.google.com/github/Lindronics/WhatsApp_analysis/blob/master/WhatsApp_analysis.ipynb\" target=\"_parent\"><img src=\"https://colab.research.google.com/assets/colab-badge.svg\" alt=\"Open In Colab\"/></a>"
      ]
    },
    {
      "metadata": {
        "id": "x8GKIs5fEgLV",
        "colab_type": "text"
      },
      "cell_type": "markdown",
      "source": [
        "# WhatsApp chat protocol analysis\n"
      ]
    },
    {
      "metadata": {
        "id": "IdbVP-2VBtRc",
        "colab_type": "code",
        "colab": {}
      },
      "cell_type": "code",
      "source": [
        "import time"
      ],
      "execution_count": 0,
      "outputs": []
    },
    {
      "metadata": {
        "id": "xL000esgE5lA",
        "colab_type": "text"
      },
      "cell_type": "markdown",
      "source": [
        "## Load WhatsApp chat protocol"
      ]
    },
    {
      "metadata": {
        "id": "nVSKURNHBwEq",
        "colab_type": "code",
        "colab": {}
      },
      "cell_type": "code",
      "source": [
        "# from google.colab import files\n",
        "# uploaded_files = files.upload()"
      ],
      "execution_count": 0,
      "outputs": []
    },
    {
      "metadata": {
        "id": "gIaW2YVWG6QN",
        "colab_type": "text"
      },
      "cell_type": "markdown",
      "source": [
        "### Load from Google Drive"
      ]
    },
    {
      "metadata": {
        "id": "cl8-Z-qPFlWK",
        "colab_type": "code",
        "colab": {}
      },
      "cell_type": "code",
      "source": [
        "from google.colab import drive\n",
        "drive.mount('/content/gdrive')"
      ],
      "execution_count": 0,
      "outputs": []
    },
    {
      "metadata": {
        "id": "-fcZnuYVF3c8",
        "colab_type": "code",
        "colab": {}
      },
      "cell_type": "code",
      "source": [
        "import re\n",
        "\n",
        "filename = input(\"Name of file: \")\n",
        "raw_protocol = list()\n",
        "with open('/content/gdrive/My Drive/Analysis/WhatsApp/%s' % filename, 'r') as f:\n",
        "    for line in f:\n",
        "        splitted = re.compile(\"(.+) \\- (.+?): (.*)\").split(line)[1:-1]\n",
        "        raw_protocol.append(splitted)"
      ],
      "execution_count": 0,
      "outputs": []
    },
    {
      "metadata": {
        "id": "c4cGSa5UG9Np",
        "colab_type": "text"
      },
      "cell_type": "markdown",
      "source": [
        "### Process into Pandas DataFrame"
      ]
    },
    {
      "metadata": {
        "id": "9WdlF5W0GCQz",
        "colab_type": "code",
        "colab": {}
      },
      "cell_type": "code",
      "source": [
        "import pandas as pd\n",
        "\n",
        "protocol = pd.DataFrame(raw_protocol)\n",
        "protocol.columns = [\"timestamp\", \"author\", \"body\"]\n",
        "protocol = protocol.dropna()\n",
        "\n",
        "print(\"Size: \", protocol.size)\n",
        "protocol.head(5)"
      ],
      "execution_count": 0,
      "outputs": []
    },
    {
      "metadata": {
        "id": "yTz-uGARVf6u",
        "colab_type": "code",
        "colab": {}
      },
      "cell_type": "code",
      "source": [
        "protocol.author.value_counts()"
      ],
      "execution_count": 0,
      "outputs": []
    },
    {
      "metadata": {
        "id": "by0vRbJhOvAf",
        "colab_type": "text"
      },
      "cell_type": "markdown",
      "source": [
        "### Split into train and test"
      ]
    },
    {
      "metadata": {
        "id": "YGpo_3GUOxXi",
        "colab_type": "code",
        "colab": {}
      },
      "cell_type": "code",
      "source": [
        "train_test_split = int(len(protocol) * 0.8)\n",
        "\n",
        "train_protocol = protocol[:train_test_split]\n",
        "test_protocol = protocol[train_test_split:]\n",
        "\n",
        "train_labels = train_protocol.author.tolist()\n",
        "test_labels = test_protocol.author.tolist()"
      ],
      "execution_count": 0,
      "outputs": []
    },
    {
      "metadata": {
        "id": "QJjp5pzXJ8nR",
        "colab_type": "text"
      },
      "cell_type": "markdown",
      "source": [
        "## Tokenize"
      ]
    },
    {
      "metadata": {
        "id": "OkE8j5sbGhxQ",
        "colab_type": "code",
        "colab": {}
      },
      "cell_type": "code",
      "source": [
        "import spacy\n",
        "nlp = spacy.load(\"en_core_web_sm\")\n",
        "nlp.remove_pipe('tagger')\n",
        "nlp.remove_pipe('parser')\n",
        "\n",
        "def tokenize(s):\n",
        "    return nlp(s)\n",
        "\n",
        "def normalize(tokens):\n",
        "    normalized_tokens = list()\n",
        "    for token in tokens:\n",
        "        if token.is_alpha or token.is_digit:\n",
        "            try:\n",
        "                normalized_tokens.append(token.text.lower().strip())\n",
        "            except:\n",
        "                print(token)\n",
        "    return normalized_tokens\n",
        "\n",
        "def tokenize_normalize(s):\n",
        "    return normalize(tokenize(s))"
      ],
      "execution_count": 0,
      "outputs": []
    },
    {
      "metadata": {
        "id": "lAYgbOuaNNS9",
        "colab_type": "text"
      },
      "cell_type": "markdown",
      "source": [
        "## Pipeline"
      ]
    },
    {
      "metadata": {
        "id": "FY80c9RJM-zN",
        "colab_type": "code",
        "colab": {}
      },
      "cell_type": "code",
      "source": [
        "from sklearn.base import BaseEstimator, TransformerMixin\n",
        "\n",
        "class ItemSelector(BaseEstimator, TransformerMixin):\n",
        "    \"\"\"For data grouped by feature, select subset of data at a provided key.    \"\"\"\n",
        "\n",
        "    def __init__(self, key):\n",
        "        self.key = key\n",
        "\n",
        "    def fit(self, x, y=None):\n",
        "        return self\n",
        "\n",
        "    def transform(self, data_dict):\n",
        "        return data_dict[self.key]"
      ],
      "execution_count": 0,
      "outputs": []
    },
    {
      "metadata": {
        "id": "C4EnD_5gNvbz",
        "colab_type": "code",
        "colab": {}
      },
      "cell_type": "code",
      "source": [
        "from sklearn.pipeline import Pipeline\n",
        "from sklearn.feature_extraction.text import TfidfVectorizer\n",
        "from sklearn.linear_model import LogisticRegression\n",
        "\n",
        "pipeline = Pipeline([\n",
        "    (\"selector\", ItemSelector(\"body\")),\n",
        "    (\"vectorizer\", TfidfVectorizer()),\n",
        "    (\"classifier\", LogisticRegression()),\n",
        "])"
      ],
      "execution_count": 0,
      "outputs": []
    },
    {
      "metadata": {
        "id": "KJ3ltDOGOplS",
        "colab_type": "code",
        "colab": {}
      },
      "cell_type": "code",
      "source": [
        "t1 = time.time()\n",
        "\n",
        "pipeline.fit(train_protocol, train_labels)\n",
        "\n",
        "print(\"Elapsed: %f seconds\" % (time.time() - t1))"
      ],
      "execution_count": 0,
      "outputs": []
    },
    {
      "metadata": {
        "id": "fTdwkPwyUsCU",
        "colab_type": "text"
      },
      "cell_type": "markdown",
      "source": [
        "## Evaluation"
      ]
    },
    {
      "metadata": {
        "id": "3WO4xpp2Ptqu",
        "colab_type": "code",
        "colab": {}
      },
      "cell_type": "code",
      "source": [
        "from sklearn.metrics import classification_report\n",
        "\n",
        "predicted_labels = pipeline.predict(test_protocol)\n",
        "print(classification_report(test_labels, predicted_labels))"
      ],
      "execution_count": 0,
      "outputs": []
    },
    {
      "metadata": {
        "id": "qaB0Y-i2X_pq",
        "colab_type": "text"
      },
      "cell_type": "markdown",
      "source": [
        "## Playground (predict an author)"
      ]
    },
    {
      "metadata": {
        "id": "xGZiL-LWVF70",
        "colab_type": "code",
        "colab": {}
      },
      "cell_type": "code",
      "source": [
        "# Get message to predict\n",
        "input_message = input(\"Message to predict: \")\n",
        "\n",
        "# Convert to DataFrame, so it can be input into the pipeline\n",
        "input_df = pd.DataFrame([input_message])\n",
        "input_df.columns = [\"body\"]\n",
        "\n",
        "print(\"This message is by %s with a probability of %f.\" % (\n",
        "    pipeline.predict(input_df)[0], \n",
        "    max(pipeline.predict_proba(input_df)[0])\n",
        "))"
      ],
      "execution_count": 0,
      "outputs": []
    },
    {
      "metadata": {
        "id": "gsJ8lsPIXK0-",
        "colab_type": "code",
        "colab": {}
      },
      "cell_type": "code",
      "source": [
        ""
      ],
      "execution_count": 0,
      "outputs": []
    }
  ]
}
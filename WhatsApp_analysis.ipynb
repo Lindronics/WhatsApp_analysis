{
  "nbformat": 4,
  "nbformat_minor": 0,
  "metadata": {
    "colab": {
      "name": "WhatsApp_analysis.ipynb",
      "version": "0.3.2",
      "provenance": [],
      "include_colab_link": true
    },
    "kernelspec": {
      "name": "python3",
      "display_name": "Python 3"
    }
  },
  "cells": [
    {
      "cell_type": "markdown",
      "metadata": {
        "id": "view-in-github",
        "colab_type": "text"
      },
      "source": [
        "<a href=\"https://colab.research.google.com/github/Lindronics/WhatsApp_analysis/blob/master/WhatsApp_analysis.ipynb\" target=\"_parent\"><img src=\"https://colab.research.google.com/assets/colab-badge.svg\" alt=\"Open In Colab\"/></a>"
      ]
    },
    {
      "metadata": {
        "id": "x8GKIs5fEgLV",
        "colab_type": "text"
      },
      "cell_type": "markdown",
      "source": [
        "# WhatsApp chat protocol analysis\n"
      ]
    },
    {
      "metadata": {
        "id": "IdbVP-2VBtRc",
        "colab_type": "code",
        "colab": {}
      },
      "cell_type": "code",
      "source": [
        "import spacy\n",
        "import sklearn"
      ],
      "execution_count": 0,
      "outputs": []
    },
    {
      "metadata": {
        "id": "xL000esgE5lA",
        "colab_type": "text"
      },
      "cell_type": "markdown",
      "source": [
        "## Load WhatsApp chat protocol"
      ]
    },
    {
      "metadata": {
        "id": "nVSKURNHBwEq",
        "colab_type": "code",
        "colab": {}
      },
      "cell_type": "code",
      "source": [
        "# from google.colab import files\n",
        "# uploaded_files = files.upload()"
      ],
      "execution_count": 0,
      "outputs": []
    },
    {
      "metadata": {
        "id": "gIaW2YVWG6QN",
        "colab_type": "text"
      },
      "cell_type": "markdown",
      "source": [
        "### Load from Google Drive"
      ]
    },
    {
      "metadata": {
        "id": "cl8-Z-qPFlWK",
        "colab_type": "code",
        "colab": {}
      },
      "cell_type": "code",
      "source": [
        "from google.colab import drive\n",
        "drive.mount('/content/gdrive')"
      ],
      "execution_count": 0,
      "outputs": []
    },
    {
      "metadata": {
        "id": "-fcZnuYVF3c8",
        "colab_type": "code",
        "colab": {}
      },
      "cell_type": "code",
      "source": [
        "import re\n",
        "\n",
        "filename = input(\"Name of file: \")\n",
        "raw_protocol = list()\n",
        "with open('/content/gdrive/My Drive/Analysis/WhatsApp/%s' % filename, 'r') as f:\n",
        "    for line in f:\n",
        "        raw_protocol.append(re.compile(\"(.+) \\- (.+): (.*)\").split(line)[1:-1])"
      ],
      "execution_count": 0,
      "outputs": []
    },
    {
      "metadata": {
        "id": "c4cGSa5UG9Np",
        "colab_type": "text"
      },
      "cell_type": "markdown",
      "source": [
        "### Process into Pandas DataFrame"
      ]
    },
    {
      "metadata": {
        "id": "9WdlF5W0GCQz",
        "colab_type": "code",
        "colab": {}
      },
      "cell_type": "code",
      "source": [
        "import pandas as pd\n",
        "\n",
        "protocol = pd.DataFrame(raw_protocol)\n",
        "protocol.head(5)"
      ],
      "execution_count": 0,
      "outputs": []
    },
    {
      "metadata": {
        "id": "QJjp5pzXJ8nR",
        "colab_type": "text"
      },
      "cell_type": "markdown",
      "source": [
        "## Tokenize"
      ]
    },
    {
      "metadata": {
        "id": "OkE8j5sbGhxQ",
        "colab_type": "code",
        "colab": {}
      },
      "cell_type": "code",
      "source": [
        "def tokenizer(s):\n",
        "    pass"
      ],
      "execution_count": 0,
      "outputs": []
    }
  ]
}